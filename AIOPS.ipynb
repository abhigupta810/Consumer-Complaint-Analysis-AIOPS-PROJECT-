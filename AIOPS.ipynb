{
 "cells": [
  {
   "cell_type": "markdown",
   "id": "75110ad4-cacd-42cd-a940-b1fe0c48e243",
   "metadata": {},
   "source": [
    "# "
   ]
  },
  {
   "cell_type": "code",
   "execution_count": 2,
   "id": "b88265a3-54cc-465f-90f8-aad8349e1607",
   "metadata": {},
   "outputs": [],
   "source": [
    "import pandas as pd\n",
    "import numpy as np\n",
    "import matplotlib.pyplot as plt\n",
    "import seaborn as ss\n",
    "from sklearn.model_selection import train_test_split\n",
    "from sklearn.preprocessing import LabelEncoder\n",
    "import spacy\n",
    "from gensim.models import Word2Vec\n",
    "from nltk.tokenize import word_tokenize\n",
    "from nltk.corpus import stopwords\n",
    "from nltk.tokenize import word_tokenize\n",
    "from nltk.stem import WordNetLemmatizer\n",
    "from nltk.stem import PorterStemmer\n",
    "import string"
   ]
  },
  {
   "cell_type": "code",
   "execution_count": 3,
   "id": "a472919e-2ec0-4af4-8df9-b17d726a5e54",
   "metadata": {
    "scrolled": true
   },
   "outputs": [
    {
     "name": "stderr",
     "output_type": "stream",
     "text": [
      "2024-12-22 23:21:45.612553: I tensorflow/core/util/port.cc:153] oneDNN custom operations are on. You may see slightly different numerical results due to floating-point round-off errors from different computation orders. To turn them off, set the environment variable `TF_ENABLE_ONEDNN_OPTS=0`.\n",
      "2024-12-22 23:21:45.617905: I external/local_xla/xla/tsl/cuda/cudart_stub.cc:32] Could not find cuda drivers on your machine, GPU will not be used.\n",
      "2024-12-22 23:21:45.630217: E external/local_xla/xla/stream_executor/cuda/cuda_fft.cc:485] Unable to register cuFFT factory: Attempting to register factory for plugin cuFFT when one has already been registered\n",
      "2024-12-22 23:21:45.650226: E external/local_xla/xla/stream_executor/cuda/cuda_dnn.cc:8454] Unable to register cuDNN factory: Attempting to register factory for plugin cuDNN when one has already been registered\n",
      "2024-12-22 23:21:45.656121: E external/local_xla/xla/stream_executor/cuda/cuda_blas.cc:1452] Unable to register cuBLAS factory: Attempting to register factory for plugin cuBLAS when one has already been registered\n",
      "2024-12-22 23:21:45.671395: I tensorflow/core/platform/cpu_feature_guard.cc:210] This TensorFlow binary is optimized to use available CPU instructions in performance-critical operations.\n",
      "To enable the following instructions: AVX2 AVX512F AVX512_VNNI AVX512_BF16 AVX512_FP16 AVX_VNNI AMX_TILE AMX_INT8 AMX_BF16 FMA, in other operations, rebuild TensorFlow with the appropriate compiler flags.\n",
      "2024-12-22 23:21:46.605256: W tensorflow/compiler/tf2tensorrt/utils/py_utils.cc:38] TF-TRT Warning: Could not find TensorRT\n"
     ]
    }
   ],
   "source": [
    "from imblearn.over_sampling import SMOTE\n",
    "from imblearn.over_sampling import RandomOverSampler\n",
    "from tensorflow.keras.models import Sequential\n",
    "from tensorflow.keras.callbacks import EarlyStopping\n",
    "from tensorflow.keras.layers import Embedding, LSTM, Dense, BatchNormalization, Dropout\n",
    "from sklearn.model_selection import train_test_split\n",
    "from tensorflow.keras.preprocessing.sequence import pad_sequences"
   ]
  },
  {
   "cell_type": "code",
   "execution_count": 4,
   "id": "538d7117-5767-4154-923a-b9f1be14cb38",
   "metadata": {},
   "outputs": [
    {
     "name": "stderr",
     "output_type": "stream",
     "text": [
      "[nltk_data] Downloading package punkt to /home/xeon4/nltk_data...\n",
      "[nltk_data]   Package punkt is already up-to-date!\n",
      "[nltk_data] Downloading package stopwords to /home/xeon4/nltk_data...\n",
      "[nltk_data]   Package stopwords is already up-to-date!\n",
      "[nltk_data] Downloading package wordnet to /home/xeon4/nltk_data...\n",
      "[nltk_data]   Package wordnet is already up-to-date!\n"
     ]
    },
    {
     "data": {
      "text/plain": [
       "True"
      ]
     },
     "execution_count": 4,
     "metadata": {},
     "output_type": "execute_result"
    }
   ],
   "source": [
    "import nltk\n",
    "nltk.download('punkt')\n",
    "nltk.download('stopwords')\n",
    "nltk.download('wordnet')"
   ]
  },
  {
   "cell_type": "code",
   "execution_count": 5,
   "id": "0e5c0005-6ae4-4597-8b82-7069f9a67173",
   "metadata": {},
   "outputs": [],
   "source": [
    "df=pd.read_csv(\"complaints.csv\")"
   ]
  },
  {
   "cell_type": "code",
   "execution_count": 6,
   "id": "3f1c4ea2-9554-4be5-8614-6460416ab967",
   "metadata": {},
   "outputs": [
    {
     "data": {
      "text/plain": [
       "(6980045, 18)"
      ]
     },
     "execution_count": 6,
     "metadata": {},
     "output_type": "execute_result"
    }
   ],
   "source": [
    "df.shape"
   ]
  },
  {
   "cell_type": "code",
   "execution_count": 7,
   "id": "71a394bc-446d-47f0-949c-cbbcb8c52262",
   "metadata": {},
   "outputs": [
    {
     "data": {
      "text/html": [
       "<div>\n",
       "<style scoped>\n",
       "    .dataframe tbody tr th:only-of-type {\n",
       "        vertical-align: middle;\n",
       "    }\n",
       "\n",
       "    .dataframe tbody tr th {\n",
       "        vertical-align: top;\n",
       "    }\n",
       "\n",
       "    .dataframe thead th {\n",
       "        text-align: right;\n",
       "    }\n",
       "</style>\n",
       "<table border=\"1\" class=\"dataframe\">\n",
       "  <thead>\n",
       "    <tr style=\"text-align: right;\">\n",
       "      <th></th>\n",
       "      <th>Date received</th>\n",
       "      <th>Product</th>\n",
       "      <th>Sub-product</th>\n",
       "      <th>Issue</th>\n",
       "      <th>Sub-issue</th>\n",
       "      <th>Consumer complaint narrative</th>\n",
       "      <th>Company public response</th>\n",
       "      <th>Company</th>\n",
       "      <th>State</th>\n",
       "      <th>ZIP code</th>\n",
       "      <th>Tags</th>\n",
       "      <th>Consumer consent provided?</th>\n",
       "      <th>Submitted via</th>\n",
       "      <th>Date sent to company</th>\n",
       "      <th>Company response to consumer</th>\n",
       "      <th>Timely response?</th>\n",
       "      <th>Consumer disputed?</th>\n",
       "      <th>Complaint ID</th>\n",
       "    </tr>\n",
       "  </thead>\n",
       "  <tbody>\n",
       "    <tr>\n",
       "      <th>2159266</th>\n",
       "      <td>2024-04-24</td>\n",
       "      <td>Credit reporting or other personal consumer re...</td>\n",
       "      <td>Credit reporting</td>\n",
       "      <td>Problem with a company's investigation into an...</td>\n",
       "      <td>Investigation took more than 30 days</td>\n",
       "      <td>I have already sent a letter addressing the in...</td>\n",
       "      <td>NaN</td>\n",
       "      <td>Experian Information Solutions Inc.</td>\n",
       "      <td>VA</td>\n",
       "      <td>23602</td>\n",
       "      <td>NaN</td>\n",
       "      <td>Consent provided</td>\n",
       "      <td>Web</td>\n",
       "      <td>2024-04-24</td>\n",
       "      <td>In progress</td>\n",
       "      <td>Yes</td>\n",
       "      <td>NaN</td>\n",
       "      <td>8846634</td>\n",
       "    </tr>\n",
       "    <tr>\n",
       "      <th>285207</th>\n",
       "      <td>2018-01-04</td>\n",
       "      <td>Vehicle loan or lease</td>\n",
       "      <td>Loan</td>\n",
       "      <td>Struggling to pay your loan</td>\n",
       "      <td>Loan balance remaining after the vehicle is re...</td>\n",
       "      <td>I purchased a car from XXXX XXXX XXXX in XXXX ...</td>\n",
       "      <td>NaN</td>\n",
       "      <td>Exeter Finance, LLC.</td>\n",
       "      <td>MD</td>\n",
       "      <td>21921</td>\n",
       "      <td>NaN</td>\n",
       "      <td>Consent provided</td>\n",
       "      <td>Web</td>\n",
       "      <td>2018-01-04</td>\n",
       "      <td>Closed with explanation</td>\n",
       "      <td>Yes</td>\n",
       "      <td>NaN</td>\n",
       "      <td>2771884</td>\n",
       "    </tr>\n",
       "    <tr>\n",
       "      <th>2963289</th>\n",
       "      <td>2024-04-28</td>\n",
       "      <td>Credit reporting or other personal consumer re...</td>\n",
       "      <td>Credit reporting</td>\n",
       "      <td>Incorrect information on your report</td>\n",
       "      <td>Information belongs to someone else</td>\n",
       "      <td>NaN</td>\n",
       "      <td>NaN</td>\n",
       "      <td>EQUIFAX, INC.</td>\n",
       "      <td>TX</td>\n",
       "      <td>75115</td>\n",
       "      <td>NaN</td>\n",
       "      <td>Consent not provided</td>\n",
       "      <td>Web</td>\n",
       "      <td>2024-04-28</td>\n",
       "      <td>Closed with non-monetary relief</td>\n",
       "      <td>Yes</td>\n",
       "      <td>NaN</td>\n",
       "      <td>8876469</td>\n",
       "    </tr>\n",
       "    <tr>\n",
       "      <th>2444504</th>\n",
       "      <td>2024-06-27</td>\n",
       "      <td>Credit reporting or other personal consumer re...</td>\n",
       "      <td>Credit reporting</td>\n",
       "      <td>Problem with a company's investigation into an...</td>\n",
       "      <td>Investigation took more than 30 days</td>\n",
       "      <td>NaN</td>\n",
       "      <td>Company has responded to the consumer and the ...</td>\n",
       "      <td>Experian Information Solutions Inc.</td>\n",
       "      <td>NV</td>\n",
       "      <td>89178</td>\n",
       "      <td>NaN</td>\n",
       "      <td>Consent not provided</td>\n",
       "      <td>Web</td>\n",
       "      <td>2024-06-27</td>\n",
       "      <td>Closed with explanation</td>\n",
       "      <td>Yes</td>\n",
       "      <td>NaN</td>\n",
       "      <td>9361550</td>\n",
       "    </tr>\n",
       "    <tr>\n",
       "      <th>1256488</th>\n",
       "      <td>2024-09-10</td>\n",
       "      <td>Credit reporting or other personal consumer re...</td>\n",
       "      <td>Other personal consumer report</td>\n",
       "      <td>Incorrect information on your report</td>\n",
       "      <td>Information belongs to someone else</td>\n",
       "      <td>NaN</td>\n",
       "      <td>NaN</td>\n",
       "      <td>EQUIFAX, INC.</td>\n",
       "      <td>TX</td>\n",
       "      <td>77469</td>\n",
       "      <td>NaN</td>\n",
       "      <td>Consent not provided</td>\n",
       "      <td>Web</td>\n",
       "      <td>2024-09-10</td>\n",
       "      <td>Closed with non-monetary relief</td>\n",
       "      <td>Yes</td>\n",
       "      <td>NaN</td>\n",
       "      <td>10076753</td>\n",
       "    </tr>\n",
       "    <tr>\n",
       "      <th>3694346</th>\n",
       "      <td>2023-09-06</td>\n",
       "      <td>Credit reporting or other personal consumer re...</td>\n",
       "      <td>Credit reporting</td>\n",
       "      <td>Problem with a company's investigation into an...</td>\n",
       "      <td>Their investigation did not fix an error on yo...</td>\n",
       "      <td>NaN</td>\n",
       "      <td>NaN</td>\n",
       "      <td>EQUIFAX, INC.</td>\n",
       "      <td>FL</td>\n",
       "      <td>33823</td>\n",
       "      <td>NaN</td>\n",
       "      <td>Consent not provided</td>\n",
       "      <td>Web</td>\n",
       "      <td>2023-09-06</td>\n",
       "      <td>Closed with non-monetary relief</td>\n",
       "      <td>Yes</td>\n",
       "      <td>NaN</td>\n",
       "      <td>7506977</td>\n",
       "    </tr>\n",
       "    <tr>\n",
       "      <th>5534208</th>\n",
       "      <td>2022-03-09</td>\n",
       "      <td>Credit reporting, credit repair services, or o...</td>\n",
       "      <td>Credit reporting</td>\n",
       "      <td>Incorrect information on your report</td>\n",
       "      <td>Information belongs to someone else</td>\n",
       "      <td>NaN</td>\n",
       "      <td>NaN</td>\n",
       "      <td>EQUIFAX, INC.</td>\n",
       "      <td>NY</td>\n",
       "      <td>11691</td>\n",
       "      <td>NaN</td>\n",
       "      <td>Consent not provided</td>\n",
       "      <td>Web</td>\n",
       "      <td>2022-03-09</td>\n",
       "      <td>Closed with explanation</td>\n",
       "      <td>Yes</td>\n",
       "      <td>NaN</td>\n",
       "      <td>5304214</td>\n",
       "    </tr>\n",
       "    <tr>\n",
       "      <th>2664299</th>\n",
       "      <td>2023-12-12</td>\n",
       "      <td>Credit reporting or other personal consumer re...</td>\n",
       "      <td>Credit reporting</td>\n",
       "      <td>Problem with a company's investigation into an...</td>\n",
       "      <td>Their investigation did not fix an error on yo...</td>\n",
       "      <td>NaN</td>\n",
       "      <td>Company has responded to the consumer and the ...</td>\n",
       "      <td>Experian Information Solutions Inc.</td>\n",
       "      <td>IN</td>\n",
       "      <td>46254</td>\n",
       "      <td>NaN</td>\n",
       "      <td>Consent not provided</td>\n",
       "      <td>Web</td>\n",
       "      <td>2023-12-12</td>\n",
       "      <td>Closed with explanation</td>\n",
       "      <td>Yes</td>\n",
       "      <td>NaN</td>\n",
       "      <td>7991470</td>\n",
       "    </tr>\n",
       "    <tr>\n",
       "      <th>473688</th>\n",
       "      <td>2013-07-02</td>\n",
       "      <td>Credit reporting</td>\n",
       "      <td>NaN</td>\n",
       "      <td>Incorrect information on credit report</td>\n",
       "      <td>Public record</td>\n",
       "      <td>NaN</td>\n",
       "      <td>NaN</td>\n",
       "      <td>Experian Information Solutions Inc.</td>\n",
       "      <td>VA</td>\n",
       "      <td>22314</td>\n",
       "      <td>Older American</td>\n",
       "      <td>NaN</td>\n",
       "      <td>Web</td>\n",
       "      <td>2013-07-02</td>\n",
       "      <td>Closed with non-monetary relief</td>\n",
       "      <td>Yes</td>\n",
       "      <td>No</td>\n",
       "      <td>448082</td>\n",
       "    </tr>\n",
       "    <tr>\n",
       "      <th>2630692</th>\n",
       "      <td>2023-08-27</td>\n",
       "      <td>Credit reporting or other personal consumer re...</td>\n",
       "      <td>Credit reporting</td>\n",
       "      <td>Improper use of your report</td>\n",
       "      <td>Reporting company used your report improperly</td>\n",
       "      <td>NaN</td>\n",
       "      <td>Company has responded to the consumer and the ...</td>\n",
       "      <td>Experian Information Solutions Inc.</td>\n",
       "      <td>CA</td>\n",
       "      <td>95673</td>\n",
       "      <td>NaN</td>\n",
       "      <td>Consent not provided</td>\n",
       "      <td>Web</td>\n",
       "      <td>2023-08-27</td>\n",
       "      <td>Closed with non-monetary relief</td>\n",
       "      <td>Yes</td>\n",
       "      <td>NaN</td>\n",
       "      <td>7490038</td>\n",
       "    </tr>\n",
       "  </tbody>\n",
       "</table>\n",
       "</div>"
      ],
      "text/plain": [
       "        Date received                                            Product  \\\n",
       "2159266    2024-04-24  Credit reporting or other personal consumer re...   \n",
       "285207     2018-01-04                              Vehicle loan or lease   \n",
       "2963289    2024-04-28  Credit reporting or other personal consumer re...   \n",
       "2444504    2024-06-27  Credit reporting or other personal consumer re...   \n",
       "1256488    2024-09-10  Credit reporting or other personal consumer re...   \n",
       "3694346    2023-09-06  Credit reporting or other personal consumer re...   \n",
       "5534208    2022-03-09  Credit reporting, credit repair services, or o...   \n",
       "2664299    2023-12-12  Credit reporting or other personal consumer re...   \n",
       "473688     2013-07-02                                   Credit reporting   \n",
       "2630692    2023-08-27  Credit reporting or other personal consumer re...   \n",
       "\n",
       "                            Sub-product  \\\n",
       "2159266                Credit reporting   \n",
       "285207                             Loan   \n",
       "2963289                Credit reporting   \n",
       "2444504                Credit reporting   \n",
       "1256488  Other personal consumer report   \n",
       "3694346                Credit reporting   \n",
       "5534208                Credit reporting   \n",
       "2664299                Credit reporting   \n",
       "473688                              NaN   \n",
       "2630692                Credit reporting   \n",
       "\n",
       "                                                     Issue  \\\n",
       "2159266  Problem with a company's investigation into an...   \n",
       "285207                         Struggling to pay your loan   \n",
       "2963289               Incorrect information on your report   \n",
       "2444504  Problem with a company's investigation into an...   \n",
       "1256488               Incorrect information on your report   \n",
       "3694346  Problem with a company's investigation into an...   \n",
       "5534208               Incorrect information on your report   \n",
       "2664299  Problem with a company's investigation into an...   \n",
       "473688              Incorrect information on credit report   \n",
       "2630692                        Improper use of your report   \n",
       "\n",
       "                                                 Sub-issue  \\\n",
       "2159266               Investigation took more than 30 days   \n",
       "285207   Loan balance remaining after the vehicle is re...   \n",
       "2963289                Information belongs to someone else   \n",
       "2444504               Investigation took more than 30 days   \n",
       "1256488                Information belongs to someone else   \n",
       "3694346  Their investigation did not fix an error on yo...   \n",
       "5534208                Information belongs to someone else   \n",
       "2664299  Their investigation did not fix an error on yo...   \n",
       "473688                                       Public record   \n",
       "2630692      Reporting company used your report improperly   \n",
       "\n",
       "                              Consumer complaint narrative  \\\n",
       "2159266  I have already sent a letter addressing the in...   \n",
       "285207   I purchased a car from XXXX XXXX XXXX in XXXX ...   \n",
       "2963289                                                NaN   \n",
       "2444504                                                NaN   \n",
       "1256488                                                NaN   \n",
       "3694346                                                NaN   \n",
       "5534208                                                NaN   \n",
       "2664299                                                NaN   \n",
       "473688                                                 NaN   \n",
       "2630692                                                NaN   \n",
       "\n",
       "                                   Company public response  \\\n",
       "2159266                                                NaN   \n",
       "285207                                                 NaN   \n",
       "2963289                                                NaN   \n",
       "2444504  Company has responded to the consumer and the ...   \n",
       "1256488                                                NaN   \n",
       "3694346                                                NaN   \n",
       "5534208                                                NaN   \n",
       "2664299  Company has responded to the consumer and the ...   \n",
       "473688                                                 NaN   \n",
       "2630692  Company has responded to the consumer and the ...   \n",
       "\n",
       "                                     Company State ZIP code            Tags  \\\n",
       "2159266  Experian Information Solutions Inc.    VA    23602             NaN   \n",
       "285207                  Exeter Finance, LLC.    MD    21921             NaN   \n",
       "2963289                        EQUIFAX, INC.    TX    75115             NaN   \n",
       "2444504  Experian Information Solutions Inc.    NV    89178             NaN   \n",
       "1256488                        EQUIFAX, INC.    TX    77469             NaN   \n",
       "3694346                        EQUIFAX, INC.    FL    33823             NaN   \n",
       "5534208                        EQUIFAX, INC.    NY    11691             NaN   \n",
       "2664299  Experian Information Solutions Inc.    IN    46254             NaN   \n",
       "473688   Experian Information Solutions Inc.    VA    22314  Older American   \n",
       "2630692  Experian Information Solutions Inc.    CA    95673             NaN   \n",
       "\n",
       "        Consumer consent provided? Submitted via Date sent to company  \\\n",
       "2159266           Consent provided           Web           2024-04-24   \n",
       "285207            Consent provided           Web           2018-01-04   \n",
       "2963289       Consent not provided           Web           2024-04-28   \n",
       "2444504       Consent not provided           Web           2024-06-27   \n",
       "1256488       Consent not provided           Web           2024-09-10   \n",
       "3694346       Consent not provided           Web           2023-09-06   \n",
       "5534208       Consent not provided           Web           2022-03-09   \n",
       "2664299       Consent not provided           Web           2023-12-12   \n",
       "473688                         NaN           Web           2013-07-02   \n",
       "2630692       Consent not provided           Web           2023-08-27   \n",
       "\n",
       "            Company response to consumer Timely response? Consumer disputed?  \\\n",
       "2159266                      In progress              Yes                NaN   \n",
       "285207           Closed with explanation              Yes                NaN   \n",
       "2963289  Closed with non-monetary relief              Yes                NaN   \n",
       "2444504          Closed with explanation              Yes                NaN   \n",
       "1256488  Closed with non-monetary relief              Yes                NaN   \n",
       "3694346  Closed with non-monetary relief              Yes                NaN   \n",
       "5534208          Closed with explanation              Yes                NaN   \n",
       "2664299          Closed with explanation              Yes                NaN   \n",
       "473688   Closed with non-monetary relief              Yes                 No   \n",
       "2630692  Closed with non-monetary relief              Yes                NaN   \n",
       "\n",
       "         Complaint ID  \n",
       "2159266       8846634  \n",
       "285207        2771884  \n",
       "2963289       8876469  \n",
       "2444504       9361550  \n",
       "1256488      10076753  \n",
       "3694346       7506977  \n",
       "5534208       5304214  \n",
       "2664299       7991470  \n",
       "473688         448082  \n",
       "2630692       7490038  "
      ]
     },
     "execution_count": 7,
     "metadata": {},
     "output_type": "execute_result"
    }
   ],
   "source": [
    "df.sample(10)"
   ]
  },
  {
   "cell_type": "code",
   "execution_count": 8,
   "id": "11bf6a31-0eab-46c5-9735-6424e0149353",
   "metadata": {},
   "outputs": [
    {
     "name": "stdout",
     "output_type": "stream",
     "text": [
      "<class 'pandas.core.frame.DataFrame'>\n",
      "RangeIndex: 6980045 entries, 0 to 6980044\n",
      "Data columns (total 18 columns):\n",
      " #   Column                        Dtype \n",
      "---  ------                        ----- \n",
      " 0   Date received                 object\n",
      " 1   Product                       object\n",
      " 2   Sub-product                   object\n",
      " 3   Issue                         object\n",
      " 4   Sub-issue                     object\n",
      " 5   Consumer complaint narrative  object\n",
      " 6   Company public response       object\n",
      " 7   Company                       object\n",
      " 8   State                         object\n",
      " 9   ZIP code                      object\n",
      " 10  Tags                          object\n",
      " 11  Consumer consent provided?    object\n",
      " 12  Submitted via                 object\n",
      " 13  Date sent to company          object\n",
      " 14  Company response to consumer  object\n",
      " 15  Timely response?              object\n",
      " 16  Consumer disputed?            object\n",
      " 17  Complaint ID                  int64 \n",
      "dtypes: int64(1), object(17)\n",
      "memory usage: 958.6+ MB\n"
     ]
    }
   ],
   "source": [
    "df.info()"
   ]
  },
  {
   "cell_type": "code",
   "execution_count": 9,
   "id": "4f79dbee-7be0-41a0-b6d2-56928175035a",
   "metadata": {},
   "outputs": [
    {
     "data": {
      "text/plain": [
       "Date received                         0\n",
       "Product                               0\n",
       "Sub-product                      235295\n",
       "Issue                                 6\n",
       "Sub-issue                        757414\n",
       "Consumer complaint narrative    4657117\n",
       "Company public response         3534256\n",
       "Company                               0\n",
       "State                             49320\n",
       "ZIP code                          30228\n",
       "Tags                            6431900\n",
       "Consumer consent provided?      1256324\n",
       "Submitted via                         0\n",
       "Date sent to company                  0\n",
       "Company response to consumer         20\n",
       "Timely response?                      0\n",
       "Consumer disputed?              6211735\n",
       "Complaint ID                          0\n",
       "dtype: int64"
      ]
     },
     "execution_count": 9,
     "metadata": {},
     "output_type": "execute_result"
    }
   ],
   "source": [
    "# FOr checking if dataset contains any null values\n",
    "df.isnull().sum()"
   ]
  },
  {
   "cell_type": "code",
   "execution_count": 10,
   "id": "aaf868ee-53e0-42f5-b093-8eb9f40636ec",
   "metadata": {},
   "outputs": [],
   "source": [
    "# Handle missing values by dropping rows with null complaint text or dispute status\n",
    "df = df.dropna(subset=['Consumer complaint narrative', 'Consumer disputed?'])"
   ]
  },
  {
   "cell_type": "code",
   "execution_count": 11,
   "id": "e492cc05-793b-48e5-a794-1a843cee311e",
   "metadata": {},
   "outputs": [
    {
     "name": "stdout",
     "output_type": "stream",
     "text": [
      "<class 'pandas.core.frame.DataFrame'>\n",
      "Index: 164011 entries, 6025 to 6979129\n",
      "Data columns (total 18 columns):\n",
      " #   Column                        Non-Null Count   Dtype \n",
      "---  ------                        --------------   ----- \n",
      " 0   Date received                 164011 non-null  object\n",
      " 1   Product                       164011 non-null  object\n",
      " 2   Sub-product                   111841 non-null  object\n",
      " 3   Issue                         164011 non-null  object\n",
      " 4   Sub-issue                     83034 non-null   object\n",
      " 5   Consumer complaint narrative  164011 non-null  object\n",
      " 6   Company public response       78122 non-null   object\n",
      " 7   Company                       164011 non-null  object\n",
      " 8   State                         163552 non-null  object\n",
      " 9   ZIP code                      164011 non-null  object\n",
      " 10  Tags                          26991 non-null   object\n",
      " 11  Consumer consent provided?    164011 non-null  object\n",
      " 12  Submitted via                 164011 non-null  object\n",
      " 13  Date sent to company          164011 non-null  object\n",
      " 14  Company response to consumer  164011 non-null  object\n",
      " 15  Timely response?              164011 non-null  object\n",
      " 16  Consumer disputed?            164011 non-null  object\n",
      " 17  Complaint ID                  164011 non-null  int64 \n",
      "dtypes: int64(1), object(17)\n",
      "memory usage: 23.8+ MB\n"
     ]
    }
   ],
   "source": [
    "df.info()"
   ]
  },
  {
   "cell_type": "code",
   "execution_count": 12,
   "id": "47771ad7-a225-43ee-9b59-e898a616b5e4",
   "metadata": {},
   "outputs": [],
   "source": [
    "# Clean the text data (you can use your custom text-cleaning function)\n",
    "def clean_text(text):\n",
    "    text = text.lower()  # Convert to lowercase\n",
    "    text = \" \".join([word for word in text.split() if word.isalpha()])  # Remove non-alphabetic characters\n",
    "    return text\n",
    "\n",
    "df['Consumer complaint narrative'] = df['Consumer complaint narrative'].apply(clean_text)\n"
   ]
  },
  {
   "cell_type": "code",
   "execution_count": 70,
   "id": "668019cb-d362-49ba-a0ca-0899d7595fce",
   "metadata": {},
   "outputs": [
    {
     "data": {
      "text/plain": [
       "(13460, 13)"
      ]
     },
     "execution_count": 70,
     "metadata": {},
     "output_type": "execute_result"
    }
   ],
   "source": [
    "df.shape"
   ]
  },
  {
   "cell_type": "code",
   "execution_count": 13,
   "id": "3939cc58-3271-4f67-b0eb-5d3cc458998f",
   "metadata": {},
   "outputs": [],
   "source": [
    "import klib\n"
   ]
  },
  {
   "cell_type": "code",
   "execution_count": 14,
   "id": "7fd12190-d1b8-41db-892d-cef0a5009a25",
   "metadata": {},
   "outputs": [],
   "source": [
    "# Converting the datatypes into appropriate datatypes\n",
    "df = klib.convert_datatypes(df)"
   ]
  },
  {
   "cell_type": "code",
   "execution_count": 15,
   "id": "76965393-a35a-42cd-b116-36b65c2088a0",
   "metadata": {},
   "outputs": [
    {
     "name": "stdout",
     "output_type": "stream",
     "text": [
      "<class 'pandas.core.frame.DataFrame'>\n",
      "Index: 164011 entries, 6025 to 6979129\n",
      "Data columns (total 18 columns):\n",
      " #   Column                        Non-Null Count   Dtype   \n",
      "---  ------                        --------------   -----   \n",
      " 0   Date received                 164011 non-null  category\n",
      " 1   Product                       164011 non-null  category\n",
      " 2   Sub-product                   111841 non-null  category\n",
      " 3   Issue                         164011 non-null  category\n",
      " 4   Sub-issue                     83034 non-null   category\n",
      " 5   Consumer complaint narrative  164011 non-null  string  \n",
      " 6   Company public response       78122 non-null   category\n",
      " 7   Company                       164011 non-null  category\n",
      " 8   State                         163552 non-null  category\n",
      " 9   ZIP code                      164011 non-null  category\n",
      " 10  Tags                          26991 non-null   category\n",
      " 11  Consumer consent provided?    164011 non-null  category\n",
      " 12  Submitted via                 164011 non-null  category\n",
      " 13  Date sent to company          164011 non-null  category\n",
      " 14  Company response to consumer  164011 non-null  category\n",
      " 15  Timely response?              164011 non-null  category\n",
      " 16  Consumer disputed?            164011 non-null  category\n",
      " 17  Complaint ID                  164011 non-null  int32   \n",
      "dtypes: category(16), int32(1), string(1)\n",
      "memory usage: 6.7 MB\n"
     ]
    }
   ],
   "source": [
    "df.info()\n"
   ]
  },
  {
   "cell_type": "code",
   "execution_count": 16,
   "id": "1c3442ea-37d4-45f0-b119-b17c331b9fa9",
   "metadata": {},
   "outputs": [],
   "source": [
    "columns_to_convert = [\n",
    "    'Date received', 'Product', 'Sub-product', 'Issue', 'Sub-issue',\n",
    "    'Consumer complaint narrative', 'Company public response','Company', 'State', 'ZIP code', 'Tags',\n",
    "    'Consumer consent provided?', 'Submitted via', 'Date sent to company',\n",
    "    'Company response to consumer', 'Timely response?'\n",
    "]\n",
    "\n",
    "# Convert specified columns to object\n",
    "df[columns_to_convert] = df[columns_to_convert].astype(object)"
   ]
  },
  {
   "cell_type": "code",
   "execution_count": 17,
   "id": "190ad2ec-31f5-4c42-9cd5-ace3dfad4516",
   "metadata": {},
   "outputs": [
    {
     "data": {
      "text/plain": [
       "(164011, 18)"
      ]
     },
     "execution_count": 17,
     "metadata": {},
     "output_type": "execute_result"
    }
   ],
   "source": [
    "df.shape\n"
   ]
  },
  {
   "cell_type": "markdown",
   "id": "1d7ad83e-a55a-40f7-a94a-d4a351751e7d",
   "metadata": {},
   "source": [
    "Handaling Missing Dataset"
   ]
  },
  {
   "cell_type": "code",
   "execution_count": 18,
   "id": "a5100725-010b-459d-8fbd-51af6bf36b2b",
   "metadata": {},
   "outputs": [
    {
     "data": {
      "text/plain": [
       "Index(['Date received', 'Product', 'Sub-product', 'Issue', 'Sub-issue',\n",
       "       'Consumer complaint narrative', 'Company public response', 'Company',\n",
       "       'State', 'ZIP code', 'Tags', 'Consumer consent provided?',\n",
       "       'Submitted via', 'Date sent to company', 'Company response to consumer',\n",
       "       'Timely response?', 'Consumer disputed?', 'Complaint ID'],\n",
       "      dtype='object')"
      ]
     },
     "execution_count": 18,
     "metadata": {},
     "output_type": "execute_result"
    }
   ],
   "source": [
    "df.columns"
   ]
  },
  {
   "cell_type": "code",
   "execution_count": 19,
   "id": "447096d0-e90c-44b2-9d6d-f82b7d38a1d9",
   "metadata": {},
   "outputs": [],
   "source": [
    "clean_df = df.drop(columns=['Consumer consent provided?','Complaint ID', 'Date sent to company',\n",
    "                              'ZIP code','State','Date received','Sub-product','Consumer complaint narrative',\n",
    "                              'Sub-issue'])\n",
    "clean_df.dropna(inplace = True)"
   ]
  },
  {
   "cell_type": "code",
   "execution_count": 20,
   "id": "7b448306-612a-4640-b952-385c866f04d1",
   "metadata": {},
   "outputs": [
    {
     "data": {
      "text/plain": [
       "Product                         0\n",
       "Issue                           0\n",
       "Company public response         0\n",
       "Company                         0\n",
       "Tags                            0\n",
       "Submitted via                   0\n",
       "Company response to consumer    0\n",
       "Timely response?                0\n",
       "Consumer disputed?              0\n",
       "dtype: int64"
      ]
     },
     "execution_count": 20,
     "metadata": {},
     "output_type": "execute_result"
    }
   ],
   "source": [
    "clean_df.isnull().sum()"
   ]
  },
  {
   "cell_type": "code",
   "execution_count": 69,
   "id": "ea2c894f-a53b-4cbc-bed3-dc43312e62e2",
   "metadata": {},
   "outputs": [
    {
     "data": {
      "text/plain": [
       "(13460, 13)"
      ]
     },
     "execution_count": 69,
     "metadata": {},
     "output_type": "execute_result"
    }
   ],
   "source": [
    "clean_df.shape\n",
    "clean_df = clean_df.reset_index(drop=True)\n",
    "df.shape"
   ]
  },
  {
   "cell_type": "raw",
   "id": "0faa3c41-7ddf-4a60-b635-c77ef6094ccc",
   "metadata": {},
   "source": [
    "Apllying all preprocessing task for NLP"
   ]
  },
  {
   "cell_type": "code",
   "execution_count": 22,
   "id": "5bcd2180-9dcd-4af1-afc8-0affd5c620af",
   "metadata": {},
   "outputs": [],
   "source": [
    "df = pd.DataFrame.copy(clean_df)"
   ]
  },
  {
   "cell_type": "code",
   "execution_count": 23,
   "id": "623e36d2-1d1f-4268-95bc-8d790cd051eb",
   "metadata": {},
   "outputs": [],
   "source": [
    "import concurrent.futures"
   ]
  },
  {
   "cell_type": "code",
   "execution_count": 24,
   "id": "61e3e6bc-701f-4778-a865-77ed98304c72",
   "metadata": {},
   "outputs": [],
   "source": [
    "stemmer = PorterStemmer()\n",
    "\n",
    "def preprocess_text(text):\n",
    "    text = ''.join([char for char in text if char not in string.punctuation])\n",
    "    tokens = word_tokenize(text)\n",
    "    tokens = [word.lower() for word in tokens]\n",
    "    tokens = [word for word in tokens if word not in stopwords.words('english')]\n",
    "    tokens = [stemmer.stem(word) for word in tokens]\n",
    "    return ' '.join(tokens)\n",
    "\n",
    "def parallel_preprocess(column):\n",
    "    df[column] = df[column].apply(preprocess_text)\n",
    "\n",
    "columns_to_preprocess = ['Product', 'Issue', 'Company public response', 'Company', 'Tags', 'Submitted via', 'Company response to consumer', 'Timely response?']\n",
    "with concurrent.futures.ThreadPoolExecutor() as executor:\n",
    "    executor.map(parallel_preprocess, columns_to_preprocess)"
   ]
  },
  {
   "cell_type": "markdown",
   "id": "f8904873-233d-483d-ba4f-4c9af30bb7be",
   "metadata": {},
   "source": [
    "As we know Computer didn't understnd my language so we will first convert this into 0 & 1 vector"
   ]
  },
  {
   "cell_type": "code",
   "execution_count": 25,
   "id": "5e076e37-43a9-468e-bdb9-86131aeb71ec",
   "metadata": {},
   "outputs": [],
   "source": [
    "df['Consumer disputed?'] = df['Consumer disputed?'].apply(lambda x: 1 if x == 'Yes' else 0)"
   ]
  },
  {
   "cell_type": "code",
   "execution_count": 29,
   "id": "7bf30935-8545-4afd-83a8-0e01a333fecf",
   "metadata": {},
   "outputs": [
    {
     "name": "stderr",
     "output_type": "stream",
     "text": [
      "[nltk_data] Downloading package punkt_tab to /home/xeon4/nltk_data...\n",
      "[nltk_data]   Unzipping tokenizers/punkt_tab.zip.\n"
     ]
    },
    {
     "data": {
      "text/plain": [
       "True"
      ]
     },
     "execution_count": 29,
     "metadata": {},
     "output_type": "execute_result"
    }
   ],
   "source": [
    "import nltk\n",
    "nltk.download('punkt_tab')"
   ]
  },
  {
   "cell_type": "code",
   "execution_count": 30,
   "id": "e81d8d6e-123e-4661-a0b9-819fa4cada53",
   "metadata": {},
   "outputs": [],
   "source": [
    "df['Combined text'] = df['Product'].astype(str) + ' ' + df['Issue'].astype(str) + ' ' + df['Company public response'].astype(str) + ' ' + df['Company'].astype(str) + ' ' + df['Tags'].astype(str) + ' ' + df['Submitted via'].astype(str) + ' ' + df['Company response to consumer'].astype(str) + ' ' + df['Timely response?'].astype(str)\n",
    "\n",
    "from nltk.tokenize import word_tokenize\n",
    "df['Tokenized text'] = df['Combined text'].apply(word_tokenize)"
   ]
  },
  {
   "cell_type": "code",
   "execution_count": 31,
   "id": "8aed22aa-1d32-4d49-be3f-4e79f6e982db",
   "metadata": {},
   "outputs": [],
   "source": [
    "w2v_model = Word2Vec(sentences = df['Tokenized text'], vector_size=100, window=5, min_count=1, sg=0)"
   ]
  },
  {
   "cell_type": "code",
   "execution_count": 32,
   "id": "16cbe03d-7d36-4258-a439-4ebfc8dc877d",
   "metadata": {},
   "outputs": [],
   "source": [
    "word_embeddings = [w2v_model.wv[word] for word in df['Tokenized text']]"
   ]
  },
  {
   "cell_type": "code",
   "execution_count": 33,
   "id": "ffabb975-ddb3-4a1e-b561-7079b0508646",
   "metadata": {},
   "outputs": [],
   "source": [
    "from gensim.models import Word2Vec\n",
    "\n",
    "w2v_model.save(\"word2vec_model.bin\")"
   ]
  },
  {
   "cell_type": "code",
   "execution_count": 41,
   "id": "cea2b4ac-f5de-4f9d-ad3e-cf575de21c5d",
   "metadata": {},
   "outputs": [],
   "source": [
    "Document_embeddings = [np.mean(embeddings, axis=0) if embeddings.any() else np.zeros(w2v_model.vector_size) for embeddings in word_embeddings]"
   ]
  },
  {
   "cell_type": "code",
   "execution_count": 42,
   "id": "1124987a-47a8-4363-865b-0e4bc4fdbcc3",
   "metadata": {},
   "outputs": [],
   "source": [
    "df['Document embeddings'] = Document_embeddings"
   ]
  },
  {
   "cell_type": "code",
   "execution_count": 37,
   "id": "4b2e237e-1a78-49cb-b783-e2f8dbca3390",
   "metadata": {},
   "outputs": [
    {
     "data": {
      "text/html": [
       "<div>\n",
       "<style scoped>\n",
       "    .dataframe tbody tr th:only-of-type {\n",
       "        vertical-align: middle;\n",
       "    }\n",
       "\n",
       "    .dataframe tbody tr th {\n",
       "        vertical-align: top;\n",
       "    }\n",
       "\n",
       "    .dataframe thead th {\n",
       "        text-align: right;\n",
       "    }\n",
       "</style>\n",
       "<table border=\"1\" class=\"dataframe\">\n",
       "  <thead>\n",
       "    <tr style=\"text-align: right;\">\n",
       "      <th></th>\n",
       "      <th>Product</th>\n",
       "      <th>Issue</th>\n",
       "      <th>Company public response</th>\n",
       "      <th>Company</th>\n",
       "      <th>Tags</th>\n",
       "      <th>Submitted via</th>\n",
       "      <th>Company response to consumer</th>\n",
       "      <th>Timely response?</th>\n",
       "      <th>Consumer disputed?</th>\n",
       "      <th>Combined text</th>\n",
       "      <th>Tokenized text</th>\n",
       "      <th>document_embeddings</th>\n",
       "    </tr>\n",
       "  </thead>\n",
       "  <tbody>\n",
       "    <tr>\n",
       "      <th>0</th>\n",
       "      <td>Bank account or service</td>\n",
       "      <td>Deposits and withdrawals</td>\n",
       "      <td>Company chooses not to provide a public response</td>\n",
       "      <td>WELLS FARGO &amp; COMPANY</td>\n",
       "      <td>Older American</td>\n",
       "      <td>Web</td>\n",
       "      <td>Closed with non-monetary relief</td>\n",
       "      <td>Yes</td>\n",
       "      <td>0</td>\n",
       "      <td>Bank account or service Deposits and withdrawa...</td>\n",
       "      <td>[Bank, account, or, service, Deposits, and, wi...</td>\n",
       "      <td>[0.26031804, -1.1232015, 0.1409213, 0.02793352...</td>\n",
       "    </tr>\n",
       "    <tr>\n",
       "      <th>1</th>\n",
       "      <td>Student loan</td>\n",
       "      <td>Dealing with my lender or servicer</td>\n",
       "      <td>Company believes complaint caused principally ...</td>\n",
       "      <td>NAVY FEDERAL CREDIT UNION</td>\n",
       "      <td>Servicemember</td>\n",
       "      <td>Web</td>\n",
       "      <td>Closed with explanation</td>\n",
       "      <td>Yes</td>\n",
       "      <td>0</td>\n",
       "      <td>Student loan Dealing with my lender or service...</td>\n",
       "      <td>[Student, loan, Dealing, with, my, lender, or,...</td>\n",
       "      <td>[-0.15049005, 0.2068432, -0.28335926, 0.101752...</td>\n",
       "    </tr>\n",
       "    <tr>\n",
       "      <th>2</th>\n",
       "      <td>Bank account or service</td>\n",
       "      <td>Account opening, closing, or management</td>\n",
       "      <td>Company has responded to the consumer and the ...</td>\n",
       "      <td>CITIBANK, N.A.</td>\n",
       "      <td>Older American</td>\n",
       "      <td>Web</td>\n",
       "      <td>Closed with explanation</td>\n",
       "      <td>Yes</td>\n",
       "      <td>0</td>\n",
       "      <td>Bank account or service Account opening, closi...</td>\n",
       "      <td>[Bank, account, or, service, Account, opening,...</td>\n",
       "      <td>[0.2273119, -1.2902328, -0.5593769, -0.0538548...</td>\n",
       "    </tr>\n",
       "  </tbody>\n",
       "</table>\n",
       "</div>"
      ],
      "text/plain": [
       "                   Product                                    Issue  \\\n",
       "0  Bank account or service                 Deposits and withdrawals   \n",
       "1             Student loan       Dealing with my lender or servicer   \n",
       "2  Bank account or service  Account opening, closing, or management   \n",
       "\n",
       "                             Company public response  \\\n",
       "0   Company chooses not to provide a public response   \n",
       "1  Company believes complaint caused principally ...   \n",
       "2  Company has responded to the consumer and the ...   \n",
       "\n",
       "                     Company            Tags Submitted via  \\\n",
       "0      WELLS FARGO & COMPANY  Older American           Web   \n",
       "1  NAVY FEDERAL CREDIT UNION   Servicemember           Web   \n",
       "2             CITIBANK, N.A.  Older American           Web   \n",
       "\n",
       "      Company response to consumer Timely response? Consumer disputed?  \\\n",
       "0  Closed with non-monetary relief              Yes                  0   \n",
       "1          Closed with explanation              Yes                  0   \n",
       "2          Closed with explanation              Yes                  0   \n",
       "\n",
       "                                       Combined text  \\\n",
       "0  Bank account or service Deposits and withdrawa...   \n",
       "1  Student loan Dealing with my lender or service...   \n",
       "2  Bank account or service Account opening, closi...   \n",
       "\n",
       "                                      Tokenized text  \\\n",
       "0  [Bank, account, or, service, Deposits, and, wi...   \n",
       "1  [Student, loan, Dealing, with, my, lender, or,...   \n",
       "2  [Bank, account, or, service, Account, opening,...   \n",
       "\n",
       "                                 document_embeddings  \n",
       "0  [0.26031804, -1.1232015, 0.1409213, 0.02793352...  \n",
       "1  [-0.15049005, 0.2068432, -0.28335926, 0.101752...  \n",
       "2  [0.2273119, -1.2902328, -0.5593769, -0.0538548...  "
      ]
     },
     "execution_count": 37,
     "metadata": {},
     "output_type": "execute_result"
    }
   ],
   "source": [
    "df.head(3)"
   ]
  },
  {
   "cell_type": "code",
   "execution_count": 43,
   "id": "e40f7e7f-b09c-4ab7-9902-744cad73a1f0",
   "metadata": {},
   "outputs": [
    {
     "data": {
      "text/plain": [
       "100"
      ]
     },
     "execution_count": 43,
     "metadata": {},
     "output_type": "execute_result"
    }
   ],
   "source": [
    "len(df['Document embeddings'][0])"
   ]
  },
  {
   "cell_type": "code",
   "execution_count": 44,
   "id": "72f05958-dc1b-4923-a310-7a9157dbdf8c",
   "metadata": {},
   "outputs": [],
   "source": [
    "X = df['Document embeddings']\n",
    "y = df['Consumer disputed?']\n",
    "X = np.array(X)\n",
    "y = np.array(y)"
   ]
  },
  {
   "cell_type": "code",
   "execution_count": 45,
   "id": "78bcc1d3-21ee-4c1f-a8db-06605e169013",
   "metadata": {},
   "outputs": [
    {
     "data": {
      "text/plain": [
       "((13460,), (13460,))"
      ]
     },
     "execution_count": 45,
     "metadata": {},
     "output_type": "execute_result"
    }
   ],
   "source": [
    "X.shape,y.shape"
   ]
  },
  {
   "cell_type": "code",
   "execution_count": 46,
   "id": "b84fd9ab-40f2-4f18-9c4b-fafc7eb8ecc3",
   "metadata": {},
   "outputs": [],
   "source": [
    "ros = RandomOverSampler(random_state=42)\n",
    "X_resampled, y_resampled = ros.fit_resample(X.reshape(-1, 1), y)\n",
    "\n",
    "X_train, X_test, y_train, y_test = train_test_split(X_resampled, y_resampled, test_size=0.2, random_state=42)"
   ]
  },
  {
   "cell_type": "code",
   "execution_count": 47,
   "id": "ccc9fc52-d51b-4fd4-9f2f-dc3d02c99ed8",
   "metadata": {},
   "outputs": [
    {
     "data": {
      "text/plain": [
       "((17110, 1, 100), (4278, 1, 100))"
      ]
     },
     "execution_count": 47,
     "metadata": {},
     "output_type": "execute_result"
    }
   ],
   "source": [
    "X_train = np.array(X_train.tolist())\n",
    "X_test = np.array(X_test.tolist())\n",
    "X_train.shape, X_test.shape"
   ]
  },
  {
   "cell_type": "code",
   "execution_count": 48,
   "id": "8c073b6d-c578-46f1-8a29-f0abb854db79",
   "metadata": {},
   "outputs": [
    {
     "name": "stdout",
     "output_type": "stream",
     "text": [
      "Train Class Distribution: [8557 8553]\n",
      "Test Class Distribution: [2137 2141]\n"
     ]
    }
   ],
   "source": [
    "train_class_distribution = np.bincount(y_train)\n",
    "test_class_distribution = np.bincount(y_test)\n",
    "\n",
    "print(f\"Train Class Distribution: {train_class_distribution}\")\n",
    "print(f\"Test Class Distribution: {test_class_distribution}\")"
   ]
  },
  {
   "cell_type": "code",
   "execution_count": 49,
   "id": "639e5cfe-ed00-4d70-ad0f-2477fa2b1df0",
   "metadata": {},
   "outputs": [],
   "source": [
    "X_train = X_train.reshape(X_train.shape[0], 100, 1)\n",
    "X_test = X_test.reshape(X_test.shape[0], 100, 1)"
   ]
  },
  {
   "cell_type": "code",
   "execution_count": 50,
   "id": "ee1fb484-55dd-4784-ad8b-bd291689e565",
   "metadata": {},
   "outputs": [
    {
     "name": "stdout",
     "output_type": "stream",
     "text": [
      "Epoch 1/10\n"
     ]
    },
    {
     "name": "stderr",
     "output_type": "stream",
     "text": [
      "2024-12-23 03:13:55.347562: W tensorflow/core/common_runtime/gpu/gpu_device.cc:2343] Cannot dlopen some GPU libraries. Please make sure the missing libraries mentioned above are installed properly if you would like to use GPU. Follow the guide at https://www.tensorflow.org/install/gpu for how to download and setup the required libraries for your platform.\n",
      "Skipping registering GPU devices...\n",
      "/home/xeon4/abhishek/analysis/myenv/lib/python3.10/site-packages/keras/src/layers/rnn/rnn.py:204: UserWarning: Do not pass an `input_shape`/`input_dim` argument to a layer. When using Sequential models, prefer using an `Input(shape)` object as the first layer in the model instead.\n",
      "  super().__init__(**kwargs)\n"
     ]
    },
    {
     "name": "stdout",
     "output_type": "stream",
     "text": [
      "\u001b[1m535/535\u001b[0m \u001b[32m━━━━━━━━━━━━━━━━━━━━\u001b[0m\u001b[37m\u001b[0m \u001b[1m59s\u001b[0m 107ms/step - accuracy: 0.5049 - loss: 0.6936 - val_accuracy: 0.5262 - val_loss: 0.6927\n",
      "Epoch 2/10\n",
      "\u001b[1m535/535\u001b[0m \u001b[32m━━━━━━━━━━━━━━━━━━━━\u001b[0m\u001b[37m\u001b[0m \u001b[1m60s\u001b[0m 113ms/step - accuracy: 0.5124 - loss: 0.6930 - val_accuracy: 0.5161 - val_loss: 0.6928\n",
      "Epoch 3/10\n",
      "\u001b[1m535/535\u001b[0m \u001b[32m━━━━━━━━━━━━━━━━━━━━\u001b[0m\u001b[37m\u001b[0m \u001b[1m59s\u001b[0m 110ms/step - accuracy: 0.5086 - loss: 0.6929 - val_accuracy: 0.5014 - val_loss: 0.6928\n",
      "Epoch 4/10\n",
      "\u001b[1m535/535\u001b[0m \u001b[32m━━━━━━━━━━━━━━━━━━━━\u001b[0m\u001b[37m\u001b[0m \u001b[1m59s\u001b[0m 110ms/step - accuracy: 0.5085 - loss: 0.6931 - val_accuracy: 0.5005 - val_loss: 0.6928\n",
      "Epoch 5/10\n",
      "\u001b[1m535/535\u001b[0m \u001b[32m━━━━━━━━━━━━━━━━━━━━\u001b[0m\u001b[37m\u001b[0m \u001b[1m58s\u001b[0m 108ms/step - accuracy: 0.5167 - loss: 0.6929 - val_accuracy: 0.5414 - val_loss: 0.6924\n",
      "Epoch 6/10\n",
      "\u001b[1m535/535\u001b[0m \u001b[32m━━━━━━━━━━━━━━━━━━━━\u001b[0m\u001b[37m\u001b[0m \u001b[1m60s\u001b[0m 113ms/step - accuracy: 0.5099 - loss: 0.6929 - val_accuracy: 0.5507 - val_loss: 0.6910\n",
      "Epoch 7/10\n",
      "\u001b[1m535/535\u001b[0m \u001b[32m━━━━━━━━━━━━━━━━━━━━\u001b[0m\u001b[37m\u001b[0m \u001b[1m61s\u001b[0m 113ms/step - accuracy: 0.5242 - loss: 0.6917 - val_accuracy: 0.5330 - val_loss: 0.6908\n",
      "Epoch 8/10\n",
      "\u001b[1m535/535\u001b[0m \u001b[32m━━━━━━━━━━━━━━━━━━━━\u001b[0m\u001b[37m\u001b[0m \u001b[1m60s\u001b[0m 112ms/step - accuracy: 0.5328 - loss: 0.6901 - val_accuracy: 0.5414 - val_loss: 0.6888\n",
      "Epoch 9/10\n",
      "\u001b[1m535/535\u001b[0m \u001b[32m━━━━━━━━━━━━━━━━━━━━\u001b[0m\u001b[37m\u001b[0m \u001b[1m60s\u001b[0m 113ms/step - accuracy: 0.5413 - loss: 0.6890 - val_accuracy: 0.5372 - val_loss: 0.6874\n",
      "Epoch 10/10\n",
      "\u001b[1m535/535\u001b[0m \u001b[32m━━━━━━━━━━━━━━━━━━━━\u001b[0m\u001b[37m\u001b[0m \u001b[1m60s\u001b[0m 112ms/step - accuracy: 0.5501 - loss: 0.6864 - val_accuracy: 0.5496 - val_loss: 0.6860\n"
     ]
    }
   ],
   "source": [
    "early_stopping = EarlyStopping(monitor = 'accuracy' , patience = 1  ,restore_best_weights = True )\n",
    "model = Sequential()\n",
    "model.add(LSTM(128, input_shape=(X_train.shape[1], X_train.shape[2]), return_sequences=True))\n",
    "model.add(Dropout(0.1))\n",
    "model.add(LSTM(64, return_sequences=True))\n",
    "model.add(Dropout(0.1))\n",
    "model.add(LSTM(32))\n",
    "model.add(Dropout(0.1))\n",
    "model.add(Dense(1, activation='sigmoid'))\n",
    "\n",
    "\n",
    "model.compile(optimizer='adam', loss='binary_crossentropy', metrics=['accuracy'])\n",
    "\n",
    "Model_hist= model.fit(X_train, y_train, epochs=10, batch_size=32,\n",
    "                      validation_data=(X_test, y_test),verbose=1,callbacks=[early_stopping])"
   ]
  },
  {
   "cell_type": "code",
   "execution_count": 52,
   "id": "17affadf-8a16-41ec-ae8c-d04ee4c7ce5c",
   "metadata": {},
   "outputs": [
    {
     "name": "stdout",
     "output_type": "stream",
     "text": [
      "\u001b[1m134/134\u001b[0m \u001b[32m━━━━━━━━━━━━━━━━━━━━\u001b[0m\u001b[37m\u001b[0m \u001b[1m4s\u001b[0m 32ms/step\n",
      "              precision    recall  f1-score   support\n",
      "\n",
      "           0       0.50      1.00      0.67      2137\n",
      "           1       0.00      0.00      0.00      2141\n",
      "\n",
      "    accuracy                           0.50      4278\n",
      "   macro avg       0.25      0.50      0.33      4278\n",
      "weighted avg       0.25      0.50      0.33      4278\n",
      "\n"
     ]
    },
    {
     "name": "stderr",
     "output_type": "stream",
     "text": [
      "/home/xeon4/abhishek/analysis/myenv/lib/python3.10/site-packages/sklearn/metrics/_classification.py:1531: UndefinedMetricWarning: Precision is ill-defined and being set to 0.0 in labels with no predicted samples. Use `zero_division` parameter to control this behavior.\n",
      "  _warn_prf(average, modifier, f\"{metric.capitalize()} is\", len(result))\n",
      "/home/xeon4/abhishek/analysis/myenv/lib/python3.10/site-packages/sklearn/metrics/_classification.py:1531: UndefinedMetricWarning: Precision is ill-defined and being set to 0.0 in labels with no predicted samples. Use `zero_division` parameter to control this behavior.\n",
      "  _warn_prf(average, modifier, f\"{metric.capitalize()} is\", len(result))\n",
      "/home/xeon4/abhishek/analysis/myenv/lib/python3.10/site-packages/sklearn/metrics/_classification.py:1531: UndefinedMetricWarning: Precision is ill-defined and being set to 0.0 in labels with no predicted samples. Use `zero_division` parameter to control this behavior.\n",
      "  _warn_prf(average, modifier, f\"{metric.capitalize()} is\", len(result))\n"
     ]
    }
   ],
   "source": [
    "y_pred = model.predict(X_test)\n",
    "from sklearn.metrics import classification_report\n",
    "\n",
    "y_pred = np.argmax(y_pred, axis=1)\n",
    "y_pred = (y_pred > 0.2).astype('int32')\n",
    "classification_rep = classification_report(y_test, y_pred)\n",
    "\n",
    "print(classification_rep)"
   ]
  },
  {
   "cell_type": "code",
   "execution_count": 53,
   "id": "f1be4868-c957-47cb-bfb0-ac6446f21e34",
   "metadata": {},
   "outputs": [
    {
     "name": "stdout",
     "output_type": "stream",
     "text": [
      "\u001b[1m134/134\u001b[0m \u001b[32m━━━━━━━━━━━━━━━━━━━━\u001b[0m\u001b[37m\u001b[0m \u001b[1m5s\u001b[0m 34ms/step\n",
      "              precision    recall  f1-score   support\n",
      "\n",
      "           0       0.50      1.00      0.67      2137\n",
      "           1       0.00      0.00      0.00      2141\n",
      "\n",
      "    accuracy                           0.50      4278\n",
      "   macro avg       0.25      0.50      0.33      4278\n",
      "weighted avg       0.25      0.50      0.33      4278\n",
      "\n"
     ]
    },
    {
     "name": "stderr",
     "output_type": "stream",
     "text": [
      "/home/xeon4/abhishek/analysis/myenv/lib/python3.10/site-packages/sklearn/metrics/_classification.py:1531: UndefinedMetricWarning: Precision is ill-defined and being set to 0.0 in labels with no predicted samples. Use `zero_division` parameter to control this behavior.\n",
      "  _warn_prf(average, modifier, f\"{metric.capitalize()} is\", len(result))\n",
      "/home/xeon4/abhishek/analysis/myenv/lib/python3.10/site-packages/sklearn/metrics/_classification.py:1531: UndefinedMetricWarning: Precision is ill-defined and being set to 0.0 in labels with no predicted samples. Use `zero_division` parameter to control this behavior.\n",
      "  _warn_prf(average, modifier, f\"{metric.capitalize()} is\", len(result))\n",
      "/home/xeon4/abhishek/analysis/myenv/lib/python3.10/site-packages/sklearn/metrics/_classification.py:1531: UndefinedMetricWarning: Precision is ill-defined and being set to 0.0 in labels with no predicted samples. Use `zero_division` parameter to control this behavior.\n",
      "  _warn_prf(average, modifier, f\"{metric.capitalize()} is\", len(result))\n"
     ]
    }
   ],
   "source": [
    "y_pred = model.predict(X_test)\n",
    "from sklearn.metrics import classification_report\n",
    "\n",
    "y_pred = np.argmax(y_pred, axis=1)\n",
    "y_pred = (y_pred > 0.75).astype('int32')\n",
    "classification_rep = classification_report(y_test, y_pred)\n",
    "\n",
    "print(classification_rep)"
   ]
  },
  {
   "cell_type": "code",
   "execution_count": 54,
   "id": "5061782b-5e80-4e61-8455-671b2d130385",
   "metadata": {},
   "outputs": [
    {
     "data": {
      "image/png": "[encoded data removed]",
      "text/plain": [
       "<Figure size 640x480 with 1 Axes>"
      ]
     },
     "metadata": {},
     "output_type": "display_data"
    }
   ],
   "source": [
    "plt.plot(Model_hist.history['loss'])\n",
    "plt.plot(Model_hist.history['val_loss'])\n",
    "plt.title('model loss')\n",
    "plt.ylabel('loss')\n",
    "plt.xlabel('epoch')\n",
    "plt.legend(['train', 'validation'], loc='upper left')\n",
    "plt.show()"
   ]
  },
  {
   "cell_type": "code",
   "execution_count": 55,
   "id": "b77da5cf-8f6e-40d0-9583-f847b89927c6",
   "metadata": {},
   "outputs": [
    {
     "data": {
      "image/png": "[encoded data removed]",
      "text/plain": [
       "<Figure size 640x480 with 1 Axes>"
      ]
     },
     "metadata": {},
     "output_type": "display_data"
    }
   ],
   "source": [
    "plt.plot(Model_hist.history['accuracy'])\n",
    "plt.plot(Model_hist.history['val_accuracy'])\n",
    "plt.title('model accuracy')\n",
    "plt.ylabel('accuracy')\n",
    "plt.xlabel('epoch')\n",
    "plt.legend(['train', 'validation'], loc='upper left')\n",
    "plt.show()"
   ]
  },
  {
   "cell_type": "code",
   "execution_count": 56,
   "id": "f4651c18-776b-461f-9cb3-a506a3ba5774",
   "metadata": {},
   "outputs": [
    {
     "name": "stderr",
     "output_type": "stream",
     "text": [
      "WARNING:absl:You are saving your model as an HDF5 file via `model.save()` or `keras.saving.save_model(model)`. This file format is considered legacy. We recommend using instead the native Keras format, e.g. `model.save('my_model.keras')` or `keras.saving.save_model(model, 'my_model.keras')`. \n"
     ]
    }
   ],
   "source": [
    "model.save('lstm_model.h5')"
   ]
  },
  {
   "cell_type": "code",
   "execution_count": 57,
   "id": "8dede091-1dc3-4d7b-b954-1ca539e13f1a",
   "metadata": {},
   "outputs": [
    {
     "name": "stderr",
     "output_type": "stream",
     "text": [
      "WARNING:absl:Compiled the loaded model, but the compiled metrics have yet to be built. `model.compile_metrics` will be empty until you train or evaluate the model.\n"
     ]
    }
   ],
   "source": [
    "from tensorflow.keras.models import load_model\n",
    "\n",
    "loaded_model = load_model('lstm_model.h5')"
   ]
  },
  {
   "cell_type": "code",
   "execution_count": 58,
   "id": "2c97608c-35f9-425e-b0c4-6877d954fec2",
   "metadata": {},
   "outputs": [],
   "source": [
    "w2v_model = Word2Vec.load(\"word2vec_model.bin\")"
   ]
  },
  {
   "cell_type": "code",
   "execution_count": 59,
   "id": "c69a323a-9e77-4a99-a927-f1822240ed62",
   "metadata": {},
   "outputs": [],
   "source": [
    "example_text = \"mortgag Loan servicing, payments, escrow account compani choos provid public respons bank america nation associ older american postal mail close explan ye\"\n",
    "\n",
    "\n",
    "tokenized_text = word_tokenize(example_text.lower())  # Convert to lowercase for consistency\n",
    "\n",
    "word_embeddings_2 = [w2v_model.wv[word] for word in tokenized_text if word in w2v_model.wv]"
   ]
  },
  {
   "cell_type": "code",
   "execution_count": 60,
   "id": "c9708e1e-ad55-4525-8d6c-0f614a228b4a",
   "metadata": {},
   "outputs": [],
   "source": [
    "document_embeddings_2 = [np.mean(embeddings, axis=0) if embeddings.any() else np.zeros(w2v_model.vector_size) for embeddings in word_embeddings_2]"
   ]
  },
  {
   "cell_type": "code",
   "execution_count": 61,
   "id": "e26c238c-6f59-46d7-abaf-754367989c56",
   "metadata": {},
   "outputs": [],
   "source": [
    "import numpy as np\n",
    "\n",
    "# Assuming 'example_text' is the text you want to convert\n",
    "example_tokens = word_tokenize(example_text)\n",
    "\n",
    "# Initialize an empty list to store word vectors\n",
    "example_vectors = []\n",
    "\n",
    "# Iterate through each token in the example text\n",
    "for token in example_tokens:\n",
    "    try:\n",
    "        vector = w2v_model.wv[token]\n",
    "        example_vectors.append(vector)\n",
    "    except KeyError:\n",
    "        # Handle the case where a token is not in the vocabulary\n",
    "        pass\n",
    "\n",
    "# If there are no vectors for any tokens, add a zero vector\n",
    "if not example_vectors:\n",
    "    example_vectors.append(np.zeros(w2v_model.vector_size))\n",
    "\n",
    "# Calculate the mean of the word vectors\n",
    "example_vector = np.mean(example_vectors, axis=0)\n",
    "\n",
    "# 'example_vector' now contains the vector representation of the example text"
   ]
  },
  {
   "cell_type": "code",
   "execution_count": 62,
   "id": "6481d68b-634e-46ee-9d1c-82eb29012fb0",
   "metadata": {},
   "outputs": [],
   "source": [
    "vec = np.array(example_vector)\n",
    "\n",
    "final_vec= np.expand_dims(vec, axis=-1)"
   ]
  },
  {
   "cell_type": "code",
   "execution_count": 63,
   "id": "70bcca40-ea5f-4ee2-b6cb-aa6b13853db8",
   "metadata": {},
   "outputs": [
    {
     "data": {
      "text/plain": [
       "(100, 1)"
      ]
     },
     "execution_count": 63,
     "metadata": {},
     "output_type": "execute_result"
    }
   ],
   "source": [
    "final_vec.shape"
   ]
  },
  {
   "cell_type": "code",
   "execution_count": 64,
   "id": "e2ae2f73-6da3-4ab2-8fc0-41d2b65f171c",
   "metadata": {},
   "outputs": [],
   "source": [
    "final_vec = vec.reshape((1, vec.shape[0],1))"
   ]
  },
  {
   "cell_type": "code",
   "execution_count": 65,
   "id": "edc3236b-cf5f-4a1d-9803-d27d8a725eec",
   "metadata": {},
   "outputs": [
    {
     "name": "stdout",
     "output_type": "stream",
     "text": [
      "\u001b[1m1/1\u001b[0m \u001b[32m━━━━━━━━━━━━━━━━━━━━\u001b[0m\u001b[37m\u001b[0m \u001b[1m0s\u001b[0m 36ms/step\n"
     ]
    }
   ],
   "source": [
    "pred = model.predict(final_vec)\n"
   ]
  },
  {
   "cell_type": "code",
   "execution_count": 66,
   "id": "7d96a579-e16f-4063-8c93-2d815268c210",
   "metadata": {},
   "outputs": [
    {
     "data": {
      "text/plain": [
       "array([[0.5640992]], dtype=float32)"
      ]
     },
     "execution_count": 66,
     "metadata": {},
     "output_type": "execute_result"
    }
   ],
   "source": [
    "pred"
   ]
  },
  {
   "cell_type": "code",
   "execution_count": 67,
   "id": "8fe6c2ba-5259-43fb-977f-7b038c25d433",
   "metadata": {},
   "outputs": [
    {
     "data": {
      "text/plain": [
       "'No'"
      ]
     },
     "execution_count": 67,
     "metadata": {},
     "output_type": "execute_result"
    }
   ],
   "source": [
    "pred_class = 'Yes'\n",
    "if pred[0][0]<0.5:\n",
    "    pred_class = 'Yes'\n",
    "else:\n",
    "    pred_class = 'No'\n",
    "\n",
    "pred_class"
   ]
  },
  {
   "cell_type": "code",
   "execution_count": null,
   "id": "5180f600-35cb-46c4-b765-69066acd31e3",
   "metadata": {},
   "outputs": [],
   "source": []
  }
 ],
 "metadata": {
  "kernelspec": {
   "display_name": "Python 3 (ipykernel)",
   "language": "python",
   "name": "python3"
  },
  "language_info": {
   "codemirror_mode": {
    "name": "ipython",
    "version": 3
   },
   "file_extension": ".py",
   "mimetype": "text/x-python",
   "name": "python",
   "nbconvert_exporter": "python",
   "pygments_lexer": "ipython3",
   "version": "3.10.12"
  }
 },
 "nbformat": 4,
 "nbformat_minor": 5
}
